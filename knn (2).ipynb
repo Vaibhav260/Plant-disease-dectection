{
  "cells": [
    {
      "cell_type": "code",
      "execution_count": 1,
      "metadata": {
        "id": "qebzS5pGiw1F"
      },
      "outputs": [],
      "source": [
        "import matplotlib.pyplot as plt\n",
        "import pandas as pd \n",
        "import numpy as np # linear algebra"
      ]
    },
    {
      "cell_type": "code",
      "execution_count": 2,
      "metadata": {
        "colab": {
          "base_uri": "https://localhost:8080/"
        },
        "id": "BQAAbcyajMng",
        "outputId": "e1f2b930-8e22-4658-942f-4315b29f8949"
      },
      "outputs": [
        {
          "name": "stdout",
          "output_type": "stream",
          "text": [
            "Mounted at /content/drive\n"
          ]
        }
      ],
      "source": [
        "from google.colab import drive\n",
        "drive.mount('/content/drive')"
      ]
    },
    {
      "cell_type": "code",
      "execution_count": 4,
      "metadata": {
        "id": "nUCQlkw5iw1J"
      },
      "outputs": [],
      "source": [
        "test_path = '/content/drive/MyDrive/plant_data/archive/Test/Test'\n",
        "train_path = '/content/drive/MyDrive/plant_data/archive/Train/Train'"
      ]
    },
    {
      "cell_type": "code",
      "execution_count": 10,
      "metadata": {
        "id": "l2Men3oPkNyD"
      },
      "outputs": [],
      "source": [
        "import os\n",
        "import cv2\n",
        "\n",
        "# Load the dataset\n",
        "class_names_train = os.listdir(train_path)\n",
        "class_names_test = os.listdir(test_path)\n",
        "\n",
        "num_classes_train = len(class_names_train)\n",
        "num_classes_test = len(class_names_test)\n",
        "X_train = []\n",
        "X_test = []\n",
        "y_train = []\n",
        "y_test = []\n",
        "label_map_train = {class_names_train[i]: i for i in range(num_classes_train)}\n",
        "label_map_test = {class_names_test[i]: i for i in range(num_classes_test)}\n",
        " \n",
        "\n",
        "for class_name in class_names_train:\n",
        "    class_dir = os.path.join(train_path, class_name)\n",
        "    for filename in os.listdir(class_dir):\n",
        "        img_path = os.path.join(class_dir, filename)\n",
        "        img = cv2.imread(img_path)\n",
        "        img = cv2.resize(img, (128, 128))\n",
        "        X_train.append(img.flatten())\n",
        "        y_train.append(label_map_train[class_name])\n",
        "\n",
        "\n",
        "for class_name in class_names_test:\n",
        "    class_dir = os.path.join(test_path, class_name)\n",
        "    for filename in os.listdir(class_dir):\n",
        "        img_path = os.path.join(class_dir, filename)\n",
        "        img = cv2.imread(img_path)\n",
        "       \n",
        "        if img is not None:\n",
        "            img = cv2.resize(img, (128, 128))\n",
        "            X_test.append(img.flatten())\n",
        "            y_test.append(label_map_test[class_name])"
      ]
    },
    {
      "cell_type": "code",
      "execution_count": 11,
      "metadata": {
        "colab": {
          "base_uri": "https://localhost:8080/"
        },
        "id": "l6uWDN3jn2x7",
        "outputId": "c4ec7b50-6c0a-43ae-f52a-bbda56324533"
      },
      "outputs": [
        {
          "name": "stdout",
          "output_type": "stream",
          "text": [
            "X_train: (1322, 49152) \n",
            "X_test: (150, 49152)\n"
          ]
        }
      ],
      "source": [
        "print(\"X_train: {} \\nX_test: {}\".format((len(X_train), len(X_train[0])), (len(X_test), len(X_test[0]))))"
      ]
    },
    {
      "cell_type": "code",
      "execution_count": 12,
      "metadata": {
        "id": "-Yvb-e-RkNqg"
      },
      "outputs": [],
      "source": [
        "# Since size of columns is too big, we will be using PCA as it is bound to have \n",
        "# some columns with high correlation"
      ]
    },
    {
      "cell_type": "code",
      "execution_count": 13,
      "metadata": {
        "id": "I1qpxtvdkNn1"
      },
      "outputs": [],
      "source": [
        "from sklearn.decomposition import PCA"
      ]
    },
    {
      "cell_type": "code",
      "execution_count": 56,
      "metadata": {
        "id": "XSVQLeYQsivV"
      },
      "outputs": [],
      "source": [
        "# # pca = PCA(n_components=0.95, svd_solver='full')\n",
        "# pca = PCA(n_components=100)\n",
        "# X_train_pca = pca.fit_transform(X_train)\n",
        "# X_test_pca = pca.transform(X_test)"
      ]
    },
    {
      "cell_type": "code",
      "execution_count": 102,
      "metadata": {
        "id": "lGMQYx1yThz3"
      },
      "outputs": [],
      "source": [
        "X = np.concatenate((X_train, X_test))\n",
        "\n",
        "# fit PCA on the entire dataset\n",
        "pca = PCA(n_components=100)\n",
        "X_pca = pca.fit_transform(X)\n",
        "\n",
        "# split the transformed data back into training and test sets\n",
        "X_train_pca = X_pca[:len(X_train)]\n",
        "X_test_pca = X_pca[len(X_train):]"
      ]
    },
    {
      "cell_type": "code",
      "execution_count": 103,
      "metadata": {
        "colab": {
          "base_uri": "https://localhost:8080/"
        },
        "id": "cROSNYuasitB",
        "outputId": "0a9e6b93-9908-4825-e471-4fb974882e10"
      },
      "outputs": [
        {
          "name": "stdout",
          "output_type": "stream",
          "text": [
            "X_train after pca: (1322, 100) \n",
            "X_test after pca: (150, 100)\n"
          ]
        }
      ],
      "source": [
        "print(\"X_train after pca: {} \\nX_test after pca: {}\".format((len(X_train_pca), \n",
        "                                                        len(X_train_pca[0])), (len(X_test_pca), len(X_test_pca[0]))))"
      ]
    },
    {
      "cell_type": "code",
      "execution_count": 104,
      "metadata": {
        "id": "--dKmqlxvxKV"
      },
      "outputs": [],
      "source": [
        "from sklearn.neighbors import KNeighborsClassifier\n",
        "from sklearn.metrics import accuracy_score, classification_report\n",
        "from sklearn.model_selection import GridSearchCV"
      ]
    },
    {
      "cell_type": "code",
      "execution_count": 105,
      "metadata": {
        "id": "CiVbzGkYKFOo"
      },
      "outputs": [],
      "source": [
        "param_grid_knn = {'n_neighbors': [3, 5, 7],\n",
        "              'weights': ['uniform', 'distance'],\n",
        "              # 'metric': ['euclidean', 'manhattan', 'chebyshev'],\n",
        "              'p': [1, 2]}"
      ]
    },
    {
      "cell_type": "code",
      "execution_count": 106,
      "metadata": {
        "id": "NoywQ1bmvxHX"
      },
      "outputs": [],
      "source": [
        "knn = KNeighborsClassifier()"
      ]
    },
    {
      "cell_type": "code",
      "execution_count": 107,
      "metadata": {
        "id": "GZU-q12XKPEf"
      },
      "outputs": [],
      "source": [
        "grid_search_knn = GridSearchCV(knn, param_grid_knn, cv=5)"
      ]
    },
    {
      "cell_type": "code",
      "execution_count": 108,
      "metadata": {
        "colab": {
          "base_uri": "https://localhost:8080/",
          "height": 117
        },
        "id": "2Yx00YXHKVhe",
        "outputId": "48217abd-5f53-4d0d-e4b8-5eac37768adc"
      },
      "outputs": [
        {
          "data": {
            "text/html": [
              "<style>#sk-container-id-10 {color: black;background-color: white;}#sk-container-id-10 pre{padding: 0;}#sk-container-id-10 div.sk-toggleable {background-color: white;}#sk-container-id-10 label.sk-toggleable__label {cursor: pointer;display: block;width: 100%;margin-bottom: 0;padding: 0.3em;box-sizing: border-box;text-align: center;}#sk-container-id-10 label.sk-toggleable__label-arrow:before {content: \"▸\";float: left;margin-right: 0.25em;color: #696969;}#sk-container-id-10 label.sk-toggleable__label-arrow:hover:before {color: black;}#sk-container-id-10 div.sk-estimator:hover label.sk-toggleable__label-arrow:before {color: black;}#sk-container-id-10 div.sk-toggleable__content {max-height: 0;max-width: 0;overflow: hidden;text-align: left;background-color: #f0f8ff;}#sk-container-id-10 div.sk-toggleable__content pre {margin: 0.2em;color: black;border-radius: 0.25em;background-color: #f0f8ff;}#sk-container-id-10 input.sk-toggleable__control:checked~div.sk-toggleable__content {max-height: 200px;max-width: 100%;overflow: auto;}#sk-container-id-10 input.sk-toggleable__control:checked~label.sk-toggleable__label-arrow:before {content: \"▾\";}#sk-container-id-10 div.sk-estimator input.sk-toggleable__control:checked~label.sk-toggleable__label {background-color: #d4ebff;}#sk-container-id-10 div.sk-label input.sk-toggleable__control:checked~label.sk-toggleable__label {background-color: #d4ebff;}#sk-container-id-10 input.sk-hidden--visually {border: 0;clip: rect(1px 1px 1px 1px);clip: rect(1px, 1px, 1px, 1px);height: 1px;margin: -1px;overflow: hidden;padding: 0;position: absolute;width: 1px;}#sk-container-id-10 div.sk-estimator {font-family: monospace;background-color: #f0f8ff;border: 1px dotted black;border-radius: 0.25em;box-sizing: border-box;margin-bottom: 0.5em;}#sk-container-id-10 div.sk-estimator:hover {background-color: #d4ebff;}#sk-container-id-10 div.sk-parallel-item::after {content: \"\";width: 100%;border-bottom: 1px solid gray;flex-grow: 1;}#sk-container-id-10 div.sk-label:hover label.sk-toggleable__label {background-color: #d4ebff;}#sk-container-id-10 div.sk-serial::before {content: \"\";position: absolute;border-left: 1px solid gray;box-sizing: border-box;top: 0;bottom: 0;left: 50%;z-index: 0;}#sk-container-id-10 div.sk-serial {display: flex;flex-direction: column;align-items: center;background-color: white;padding-right: 0.2em;padding-left: 0.2em;position: relative;}#sk-container-id-10 div.sk-item {position: relative;z-index: 1;}#sk-container-id-10 div.sk-parallel {display: flex;align-items: stretch;justify-content: center;background-color: white;position: relative;}#sk-container-id-10 div.sk-item::before, #sk-container-id-10 div.sk-parallel-item::before {content: \"\";position: absolute;border-left: 1px solid gray;box-sizing: border-box;top: 0;bottom: 0;left: 50%;z-index: -1;}#sk-container-id-10 div.sk-parallel-item {display: flex;flex-direction: column;z-index: 1;position: relative;background-color: white;}#sk-container-id-10 div.sk-parallel-item:first-child::after {align-self: flex-end;width: 50%;}#sk-container-id-10 div.sk-parallel-item:last-child::after {align-self: flex-start;width: 50%;}#sk-container-id-10 div.sk-parallel-item:only-child::after {width: 0;}#sk-container-id-10 div.sk-dashed-wrapped {border: 1px dashed gray;margin: 0 0.4em 0.5em 0.4em;box-sizing: border-box;padding-bottom: 0.4em;background-color: white;}#sk-container-id-10 div.sk-label label {font-family: monospace;font-weight: bold;display: inline-block;line-height: 1.2em;}#sk-container-id-10 div.sk-label-container {text-align: center;}#sk-container-id-10 div.sk-container {/* jupyter's `normalize.less` sets `[hidden] { display: none; }` but bootstrap.min.css set `[hidden] { display: none !important; }` so we also need the `!important` here to be able to override the default hidden behavior on the sphinx rendered scikit-learn.org. See: https://github.com/scikit-learn/scikit-learn/issues/21755 */display: inline-block !important;position: relative;}#sk-container-id-10 div.sk-text-repr-fallback {display: none;}</style><div id=\"sk-container-id-10\" class=\"sk-top-container\"><div class=\"sk-text-repr-fallback\"><pre>GridSearchCV(cv=5, estimator=KNeighborsClassifier(),\n",
              "             param_grid={&#x27;n_neighbors&#x27;: [3, 5, 7], &#x27;p&#x27;: [1, 2],\n",
              "                         &#x27;weights&#x27;: [&#x27;uniform&#x27;, &#x27;distance&#x27;]})</pre><b>In a Jupyter environment, please rerun this cell to show the HTML representation or trust the notebook. <br />On GitHub, the HTML representation is unable to render, please try loading this page with nbviewer.org.</b></div><div class=\"sk-container\" hidden><div class=\"sk-item sk-dashed-wrapped\"><div class=\"sk-label-container\"><div class=\"sk-label sk-toggleable\"><input class=\"sk-toggleable__control sk-hidden--visually\" id=\"sk-estimator-id-24\" type=\"checkbox\" ><label for=\"sk-estimator-id-24\" class=\"sk-toggleable__label sk-toggleable__label-arrow\">GridSearchCV</label><div class=\"sk-toggleable__content\"><pre>GridSearchCV(cv=5, estimator=KNeighborsClassifier(),\n",
              "             param_grid={&#x27;n_neighbors&#x27;: [3, 5, 7], &#x27;p&#x27;: [1, 2],\n",
              "                         &#x27;weights&#x27;: [&#x27;uniform&#x27;, &#x27;distance&#x27;]})</pre></div></div></div><div class=\"sk-parallel\"><div class=\"sk-parallel-item\"><div class=\"sk-item\"><div class=\"sk-label-container\"><div class=\"sk-label sk-toggleable\"><input class=\"sk-toggleable__control sk-hidden--visually\" id=\"sk-estimator-id-25\" type=\"checkbox\" ><label for=\"sk-estimator-id-25\" class=\"sk-toggleable__label sk-toggleable__label-arrow\">estimator: KNeighborsClassifier</label><div class=\"sk-toggleable__content\"><pre>KNeighborsClassifier()</pre></div></div></div><div class=\"sk-serial\"><div class=\"sk-item\"><div class=\"sk-estimator sk-toggleable\"><input class=\"sk-toggleable__control sk-hidden--visually\" id=\"sk-estimator-id-26\" type=\"checkbox\" ><label for=\"sk-estimator-id-26\" class=\"sk-toggleable__label sk-toggleable__label-arrow\">KNeighborsClassifier</label><div class=\"sk-toggleable__content\"><pre>KNeighborsClassifier()</pre></div></div></div></div></div></div></div></div></div></div>"
            ],
            "text/plain": [
              "GridSearchCV(cv=5, estimator=KNeighborsClassifier(),\n",
              "             param_grid={'n_neighbors': [3, 5, 7], 'p': [1, 2],\n",
              "                         'weights': ['uniform', 'distance']})"
            ]
          },
          "execution_count": 108,
          "metadata": {},
          "output_type": "execute_result"
        }
      ],
      "source": [
        "grid_search_knn.fit(X_train_pca, y_train)"
      ]
    },
    {
      "cell_type": "code",
      "execution_count": 109,
      "metadata": {
        "colab": {
          "base_uri": "https://localhost:8080/"
        },
        "id": "6o-KD9GIKbdz",
        "outputId": "b1f1663b-d892-4934-e211-1ec9a45d48ad"
      },
      "outputs": [
        {
          "name": "stdout",
          "output_type": "stream",
          "text": [
            "Best hyperparameters: {'n_neighbors': 7, 'p': 2, 'weights': 'distance'}\n",
            "Best accuracy score: 0.6990337335620354\n"
          ]
        }
      ],
      "source": [
        "print(\"Best hyperparameters:\", grid_search_knn.best_params_)\n",
        "print(\"Best accuracy score:\", grid_search_knn.best_score_)"
      ]
    },
    {
      "cell_type": "code",
      "execution_count": 110,
      "metadata": {
        "id": "ITobzST-KbbI"
      },
      "outputs": [],
      "source": [
        "y_pred = grid_search_knn.predict(X_test_pca)"
      ]
    },
    {
      "cell_type": "code",
      "execution_count": null,
      "metadata": {},
      "outputs": [],
      "source": []
    },
    {
      "cell_type": "code",
      "execution_count": 111,
      "metadata": {
        "colab": {
          "base_uri": "https://localhost:8080/"
        },
        "id": "Job7aUU7KbYm",
        "outputId": "39ba3216-2a7c-4903-efb7-86fc6a2a3a81"
      },
      "outputs": [
        {
          "data": {
            "text/plain": [
              "0.26"
            ]
          },
          "execution_count": 111,
          "metadata": {},
          "output_type": "execute_result"
        }
      ],
      "source": [
        "accuracy = accuracy_score(y_test, y_pred)\n",
        "accuracy"
      ]
    },
    {
      "cell_type": "code",
      "execution_count": 112,
      "metadata": {
        "colab": {
          "base_uri": "https://localhost:8080/"
        },
        "id": "70_5qJunNMoc",
        "outputId": "783b0dd2-0c4c-4762-cb85-dfc5710fdd75"
      },
      "outputs": [
        {
          "name": "stdout",
          "output_type": "stream",
          "text": [
            "              precision    recall  f1-score   support\n",
            "\n",
            "     class 0       0.22      0.44      0.29        50\n",
            "     class 1       0.04      0.02      0.03        50\n",
            "     class 2       0.67      0.32      0.43        50\n",
            "\n",
            "    accuracy                           0.26       150\n",
            "   macro avg       0.31      0.26      0.25       150\n",
            "weighted avg       0.31      0.26      0.25       150\n",
            "\n"
          ]
        }
      ],
      "source": [
        "target_names = ['class 0', 'class 1', 'class 2']\n",
        "cr = classification_report(y_test, y_pred, target_names=target_names)\n",
        "print(cr)"
      ]
    },
    {
      "cell_type": "code",
      "execution_count": null,
      "metadata": {
        "id": "Mm11ztAmKEOL"
      },
      "outputs": [],
      "source": []
    },
    {
      "cell_type": "code",
      "execution_count": 28,
      "metadata": {
        "id": "FhmwIAjZwhEK"
      },
      "outputs": [],
      "source": [
        "from sklearn.svm import SVC"
      ]
    },
    {
      "cell_type": "code",
      "execution_count": 99,
      "metadata": {
        "id": "CwwfGxLgwhAy"
      },
      "outputs": [],
      "source": [
        "param_grid_svm = {\n",
        "    'C': [0.1, 1, 10, 100],\n",
        "    'kernel': ['linear', 'poly', 'rbf', 'sigmoid'],\n",
        "    'degree': [2, 3, 4],\n",
        "    'gamma': ['scale', 'auto'] + [0.1, 1, 10],\n",
        "}\n",
        "svm = SVC()"
      ]
    },
    {
      "cell_type": "code",
      "execution_count": 100,
      "metadata": {
        "id": "8ugB1xJINxSL"
      },
      "outputs": [],
      "source": [
        "grid_search_svm = GridSearchCV(estimator=svm, param_grid=param_grid_svm, cv=5, n_jobs=-1)"
      ]
    },
    {
      "cell_type": "code",
      "execution_count": null,
      "metadata": {
        "id": "0ApWGjx4wg-l"
      },
      "outputs": [],
      "source": [
        "grid_search_svm.fit(X_train_pca, y_train)"
      ]
    },
    {
      "cell_type": "code",
      "execution_count": null,
      "metadata": {
        "id": "D-tbh_vkOBhT"
      },
      "outputs": [],
      "source": [
        "print(\"Best parameters: \", grid_search_svm.best_params_)\n",
        "print(\"Best accuracy score: \", grid_search_svm.best_score_)"
      ]
    },
    {
      "cell_type": "code",
      "execution_count": 31,
      "metadata": {
        "colab": {
          "base_uri": "https://localhost:8080/"
        },
        "id": "mVHdB3tLwg8K",
        "outputId": "73fc1eb4-fa3e-45ed-da29-7cacd32c97d7"
      },
      "outputs": [
        {
          "data": {
            "text/plain": [
              "0.2"
            ]
          },
          "execution_count": 31,
          "metadata": {},
          "output_type": "execute_result"
        }
      ],
      "source": [
        "svm.score(X_test_pca, y_test)"
      ]
    },
    {
      "cell_type": "code",
      "execution_count": null,
      "metadata": {
        "id": "xbc_a0-jOYhP"
      },
      "outputs": [],
      "source": [
        "y_pred = grid_search_svm.predict(X_test_pca)"
      ]
    },
    {
      "cell_type": "code",
      "execution_count": null,
      "metadata": {
        "id": "XTWAzSoXOYb4"
      },
      "outputs": [],
      "source": [
        "accuracy = accuracy_score(y_test, y_pred)\n",
        "accuracy"
      ]
    },
    {
      "cell_type": "code",
      "execution_count": null,
      "metadata": {
        "id": "dKLfnIJ3OYZb"
      },
      "outputs": [],
      "source": [
        "target_names = ['class 0', 'class 1', 'class 2']\n",
        "cr = classification_report(y_test, y_pred, target_names=target_names)\n",
        "print(cr)"
      ]
    },
    {
      "cell_type": "code",
      "execution_count": null,
      "metadata": {
        "id": "Vh4-C9iyOj4l"
      },
      "outputs": [],
      "source": []
    },
    {
      "cell_type": "code",
      "execution_count": null,
      "metadata": {
        "id": "S0bzD_1rOj2C"
      },
      "outputs": [],
      "source": []
    },
    {
      "cell_type": "code",
      "execution_count": null,
      "metadata": {
        "id": "11Al1elpwg1o"
      },
      "outputs": [],
      "source": [
        "from sklearn.ensemble import RandomForestClassifier"
      ]
    },
    {
      "cell_type": "code",
      "execution_count": null,
      "metadata": {
        "id": "oXf8dVvvwgyi"
      },
      "outputs": [],
      "source": [
        "param_grid_rf = {\n",
        "    'n_estimators': [50, 100, 200],\n",
        "    'max_depth': [5, 10, 15, None],\n",
        "    'min_samples_split': [2, 5, 10],\n",
        "    'min_samples_leaf': [1, 2, 4]\n",
        "}\n",
        "rf = RandomForestClassifier(random_state=56)"
      ]
    },
    {
      "cell_type": "code",
      "execution_count": null,
      "metadata": {
        "id": "T8b1hfboxg-P"
      },
      "outputs": [],
      "source": [
        "grid_search_rf = GridSearchCV(estimator=rf, param_grid=param_grid_rf, cv=5, scoring='accuracy')"
      ]
    },
    {
      "cell_type": "code",
      "execution_count": null,
      "metadata": {
        "id": "QyoPj85Vxg8E"
      },
      "outputs": [],
      "source": [
        "grid_search_rf.fit(X_train_pca, y_train)"
      ]
    },
    {
      "cell_type": "code",
      "execution_count": null,
      "metadata": {
        "id": "bdjc6XkyQ7OM"
      },
      "outputs": [],
      "source": [
        "print(\"Best hyperparameters: \", grid_search_rf.best_params_)\n",
        "print(\"Best score: \", grid_search_rf.best_score_)"
      ]
    },
    {
      "cell_type": "code",
      "execution_count": null,
      "metadata": {
        "id": "UybKbT_rwgwN"
      },
      "outputs": [],
      "source": [
        "y_pred = grid_search_rf.predict(X_test_pca)"
      ]
    },
    {
      "cell_type": "code",
      "execution_count": null,
      "metadata": {
        "id": "jDIQAH6OQwhc"
      },
      "outputs": [],
      "source": [
        "accuracy = accuracy_score(y_test, y_pred)\n",
        "accuracy"
      ]
    },
    {
      "cell_type": "code",
      "execution_count": null,
      "metadata": {
        "id": "Dff_KnQUQwcb"
      },
      "outputs": [],
      "source": [
        "target_names = ['class 0', 'class 1', 'class 2']\n",
        "cr = classification_report(y_test, y_pred, target_names=target_names)\n",
        "print(cr)"
      ]
    },
    {
      "cell_type": "code",
      "execution_count": null,
      "metadata": {
        "id": "rogz3UerQwaC"
      },
      "outputs": [],
      "source": []
    },
    {
      "cell_type": "code",
      "execution_count": null,
      "metadata": {
        "id": "p6MbVcXHRCA_"
      },
      "outputs": [],
      "source": []
    },
    {
      "cell_type": "code",
      "execution_count": null,
      "metadata": {
        "id": "_60bVL9mRB-m"
      },
      "outputs": [],
      "source": []
    },
    {
      "cell_type": "code",
      "execution_count": null,
      "metadata": {
        "id": "VHYzA7WPRB8K"
      },
      "outputs": [],
      "source": []
    },
    {
      "cell_type": "code",
      "execution_count": null,
      "metadata": {
        "id": "FlLhSkNmiw1K"
      },
      "outputs": [],
      "source": [
        "from sklearn.neighbors import KNeighborsClassifier\n",
        "from sklearn.model_selection import train_test_split"
      ]
    },
    {
      "cell_type": "code",
      "execution_count": null,
      "metadata": {
        "id": "JmDyJz3Oiw1L"
      },
      "outputs": [],
      "source": [
        "knn = KNeighborsClassifier(n_neighbors=5)"
      ]
    },
    {
      "cell_type": "code",
      "execution_count": null,
      "metadata": {
        "id": "intHVwEhiw1L",
        "outputId": "032997a5-2c58-4d70-be71-dbb8824bb5d5"
      },
      "outputs": [
        {
          "data": {
            "text/plain": [
              "'/Users/vaibhav/Downloads/archive (1)/Train/Train'"
            ]
          },
          "execution_count": 7,
          "metadata": {},
          "output_type": "execute_result"
        }
      ],
      "source": [
        "train_path"
      ]
    },
    {
      "cell_type": "code",
      "execution_count": null,
      "metadata": {
        "id": "N52LjmTniw1M"
      },
      "outputs": [],
      "source": [
        "import os\n",
        "import cv2\n",
        "import numpy as np\n",
        "from sklearn.model_selection import train_test_split\n",
        "from sklearn.neighbors import KNeighborsClassifier\n",
        "from sklearn.metrics import accuracy_score\n",
        "\n",
        "# Load the dataset\n",
        "data_dir = '/Users/vaibhav/Downloads/archive (1)/Train/Train'\n",
        "data_test = '/Users/vaibhav/Downloads/archive (1)/Test/Test'\n",
        "class_names = os.listdir(data_dir)\n",
        "class_names1 = os.listdir(data_test)\n",
        "num_classes = len(class_names)\n",
        "num_classes1 = len(class_names1)\n",
        "X_train = []\n",
        "X_test = []\n",
        "y_train = []\n",
        "y_test = []\n",
        "label_map = {class_names[i]: i for i in range(num_classes)}\n",
        "label_map1 = {class_names[i]: i for i in range(num_classes1)}\n",
        " \n",
        "\n",
        "for class_name in class_names:\n",
        "    class_dir = os.path.join(data_dir, class_name)\n",
        "    for filename in os.listdir(class_dir):\n",
        "        img_path = os.path.join(class_dir, filename)\n",
        "        img = cv2.imread(img_path)\n",
        "        img = cv2.resize(img, (128, 128))\n",
        "        X_train.append(img.flatten())\n",
        "        y_train.append(label_map[class_name])\n",
        "\n",
        "\n",
        "for class_name1 in class_names1:\n",
        "    class_dir1 = os.path.join(data_test, class_name1)\n",
        "    for filename1 in os.listdir(class_dir1):\n",
        "        img_path = os.path.join(class_dir1, filename1)\n",
        "        img = cv2.imread(img_path)\n",
        "       \n",
        "        if img is not None:\n",
        "            img = cv2.resize(img, (128, 128))\n",
        "            X_test.append(img.flatten())\n",
        "            y_test.append(label_map1[class_name1])\n",
        "        "
      ]
    },
    {
      "cell_type": "code",
      "execution_count": null,
      "metadata": {
        "id": "RrleVAeKiw1N"
      },
      "outputs": [],
      "source": [
        "# Reshape the data\n",
        "X_train = np.array(X_train).reshape(len(X_train), -1)\n",
        "y_train = np.array(y_train)\n",
        "\n",
        "# Reshape the data\n",
        "X_test = np.array(X_test).reshape(len(X_test), -1)\n",
        "y_test = np.array(y_test)\n",
        "        "
      ]
    },
    {
      "cell_type": "code",
      "execution_count": null,
      "metadata": {
        "id": "fVcZ6a4oiw1N"
      },
      "outputs": [],
      "source": [
        "from sklearn.svm import SVC\n",
        "from sklearn.metrics import accuracy_score\n",
        "from skopt import gp_minimize\n",
        "from skopt.space import Real, Integer\n",
        "from skopt.utils import use_named_args\n",
        "\n",
        "\n",
        "# Define the SVM classifier and its hyperparameters\n",
        "def svm_classifier(C, gamma):\n",
        "    svm = SVC(C=C, gamma=gamma, random_state=42)\n",
        "    svm.fit(X_train, y_train)\n",
        "    y_pred = svm.predict(X_test)\n",
        "    return -accuracy_score(y_test, y_pred)\n",
        "\n",
        "# Define the search space for hyperparameters\n",
        "search_space = [\n",
        "    Real(1e-3, 1e3, \"log-uniform\", name=\"C\"),\n",
        "    Real(1e-6, 1e1, \"log-uniform\", name=\"gamma\"),\n",
        "]\n",
        "\n",
        "# Use Bayesian optimization to find the best hyperparameters\n",
        "@use_named_args(search_space)\n",
        "def objective(**params):\n",
        "    return svm_classifier(**params)\n",
        "\n",
        "result = gp_minimize(objective, search_space, n_calls=20, random_state=42)\n",
        "\n",
        "# Print the best hyperparameters and accuracy score\n",
        "print(\"Best hyperparameters: C={}, gamma={}\".format(result.x[0], result.x[1]))\n",
        "print(\"Best accuracy: {:.3f}\".format(-result.fun))"
      ]
    },
    {
      "cell_type": "code",
      "execution_count": null,
      "metadata": {
        "id": "60_bKzfPiw1N",
        "outputId": "b38567cc-4689-4e9d-b776-75a5e238ab09"
      },
      "outputs": [
        {
          "name": "stdout",
          "output_type": "stream",
          "text": [
            "Accuracy: 0.32\n"
          ]
        }
      ],
      "source": [
        "# Train the KNN model\n",
        "knn = KNeighborsClassifier(n_neighbors=7, metric='chebyshev')\n",
        "knn.fit(X_train, y_train)\n",
        "\n",
        "# Evaluate the model\n",
        "y_pred = knn.predict(X_test)\n",
        "accuracy = accuracy_score(y_test, y_pred)\n",
        "print(\"Accuracy:\", accuracy)"
      ]
    },
    {
      "cell_type": "code",
      "execution_count": null,
      "metadata": {},
      "outputs": [],
      "source": [
        "from sklearn.metrics import confusion_matrix\n",
        "import seaborn as sns\n",
        "import matplotlib.pyplot as plt\n",
        "\n",
        "# Generate the confusion matrix\n",
        "conf_matrix = confusion_matrix(y_test, y_pred)\n",
        "\n",
        "# Display the confusion matrix as a table\n",
        "print(\"Confusion Matrix:\")\n",
        "print(conf_matrix)\n",
        "\n",
        "# Display the confusion matrix as an image\n",
        "sns.set(font_scale=1.4)\n",
        "sns.heatmap(conf_matrix, annot=True, fmt='g', cmap='Blues')\n",
        "plt.xlabel('Predicted')\n",
        "plt.ylabel('True')\n",
        "plt.show()"
      ]
    },
    {
      "cell_type": "code",
      "execution_count": null,
      "metadata": {
        "id": "qjlbLv4diw1O"
      },
      "outputs": [],
      "source": [
        "from sklearn.svm import SVC\n",
        "from sklearn.ensemble import RandomForestClassifier\n",
        "from sklearn.metrics import accuracy_score\n",
        "\n",
        "svm = SVC(kernel='rbf', gamma='scale')\n",
        "svm.fit(X_train, y_train)\n",
        "y_pred_svm = svm.predict(X_test)\n",
        "accuracy_svm = accuracy_score(y_test, y_pred_svm)"
      ]
    },
    {
      "cell_type": "code",
      "execution_count": null,
      "metadata": {
        "id": "bRGkPqrtiw1O"
      },
      "outputs": [],
      "source": [
        "\n",
        "# Train the Random Forest model\n",
        "rf = RandomForestClassifier(n_estimators=50, random_state=56)\n",
        "rf.fit(X_train, y_train)\n",
        "y_pred_rf = rf.predict(X_test)\n",
        "accuracy_rf = accuracy_score(y_test, y_pred_rf)"
      ]
    },
    {
      "cell_type": "code",
      "execution_count": null,
      "metadata": {
        "id": "uAGZdpHFiw1P",
        "outputId": "e517347f-889a-4ee7-9c31-4f297b1d736d"
      },
      "outputs": [
        {
          "name": "stdout",
          "output_type": "stream",
          "text": [
            "Accuracy SVM: 0.7133333333333334\n",
            "Accuracy rf: 0.5866666666666667\n"
          ]
        }
      ],
      "source": [
        "print(\"Accuracy SVM:\", accuracy_svm)\n",
        "print(\"Accuracy rf:\", accuracy_rf)\n"
      ]
    },
    {
      "cell_type": "code",
      "execution_count": null,
      "metadata": {
        "id": "iNd2Mvngiw1P"
      },
      "outputs": [],
      "source": []
    },
    {
      "cell_type": "code",
      "execution_count": null,
      "metadata": {
        "id": "Zh-rqUQMiw1P"
      },
      "outputs": [],
      "source": [
        "import os\n",
        "import cv2\n",
        "import numpy as np\n",
        "from sklearn.model_selection import train_test_split\n",
        "from tensorflow.keras.utils import to_categorical\n",
        "from tensorflow.keras.models import Sequential\n",
        "from tensorflow.keras.layers import Conv2D, MaxPooling2D, Flatten, Dense, Dropout\n",
        "\n",
        "# Load the dataset\n",
        "data_dir = '/Users/vaibhav/Downloads/archive (1)/Train/Train'\n",
        "data_test = '/Users/vaibhav/Downloads/archive (1)/Test/Test'\n",
        "class_names = os.listdir(data_dir)\n",
        "class_names1 = os.listdir(data_test)\n",
        "num_classes = len(class_names)\n",
        "num_classes1 = len(class_names1)\n",
        "X = []\n",
        "y = []\n",
        "X_test = []\n",
        "y_test = []\n",
        "input_shape = (128, 128, 3)\n",
        "os.environ['TF_XLA_FLAGS'] = '--tf_xla_cpu_global_jit'\n",
        "\n",
        "label_map = {class_names[i]: i for i in range(num_classes)}\n",
        "label_map1 = {class_names1[i]: i for i in range(num_classes1)}\n",
        "\n",
        "for class_name in class_names:\n",
        "    class_dir = os.path.join(data_dir, class_name)\n",
        "    for filename in os.listdir(class_dir):\n",
        "        img_path = os.path.join(class_dir, filename)\n",
        "        img = cv2.imread(img_path)\n",
        "        img = cv2.resize(img, input_shape[:2])\n",
        "        X.append(img)\n",
        "        y.append(label_map[class_name])\n",
        "\n",
        "for class_name1 in class_names1:\n",
        "    class_dir1 = os.path.join(data_test, class_name1)\n",
        "    for filename1 in os.listdir(class_dir1):\n",
        "        img_path = os.path.join(class_dir1, filename1)\n",
        "        img = cv2.imread(img_path)\n",
        "        if img is not None:\n",
        "            img = cv2.resize(img, input_shape[:2])\n",
        "            X_test.append(img)\n",
        "            y_test.append(label_map1[class_name1])\n",
        "\n",
        "X = np.array(X)\n",
        "y = to_categorical(y, num_classes=num_classes)\n",
        "X_test = np.array(X_test)\n",
        "y_test = to_categorical(y_test, num_classes=num_classes1)\n",
        "\n",
        "# Split the data into training and validation sets\n",
        "X_train, X_val, y_train, y_val = train_test_split(X, y, test_size=0.2, random_state=42)\n",
        "\n",
        "# Define the model architecture\n"
      ]
    },
    {
      "cell_type": "code",
      "execution_count": null,
      "metadata": {
        "id": "2OeeHGFliw1P"
      },
      "outputs": [],
      "source": [
        "model = Sequential()\n",
        "model.add(Conv2D(32, (3, 3), activation='relu', input_shape=input_shape))\n",
        "model.add(MaxPooling2D((2, 2)))\n",
        "model.add(Conv2D(64, (3, 3), activation='relu'))\n",
        "model.add(MaxPooling2D((2, 2)))\n",
        "model.add(Conv2D(128, (3, 3), activation='relu'))\n",
        "model.add(MaxPooling2D((2, 2)))\n",
        "model.add(Conv2D(256, (3, 3), activation='relu'))\n",
        "model.add(MaxPooling2D((2, 2)))\n",
        "model.add(Flatten())\n",
        "model.add(Dense(512, activation='relu'))\n",
        "model.add(Dropout(0.5))\n",
        "model.add(Dense(num_classes, activation='softmax'))\n",
        "\n",
        "# Compile the model\n",
        "model.compile(loss='categorical_crossentropy', optimizer='adam', metrics=['accuracy'])\n",
        "\n",
        "# Train the model\n",
        "model.fit(X_train, y_train, epochs=10, batch_size=32, validation_data=(X_val, y_val))\n",
        "\n",
        "# Evaluate the model on the test set\n",
        "test_loss, test_acc = model.evaluate(X_test, y_test)\n",
        "print('Test accuracy:', test_acc)\n"
      ]
    }
  ],
  "metadata": {
    "colab": {
      "provenance": []
    },
    "kernelspec": {
      "display_name": "Python 3.10 (tensorflow)",
      "language": "python",
      "name": "tensorflow"
    },
    "language_info": {
      "codemirror_mode": {
        "name": "ipython",
        "version": 3
      },
      "file_extension": ".py",
      "mimetype": "text/x-python",
      "name": "python",
      "nbconvert_exporter": "python",
      "pygments_lexer": "ipython3",
      "version": "3.10.9"
    },
    "vscode": {
      "interpreter": {
        "hash": "a5b7cde92b5dcc5a005e5510f1ebfb029a3df79de3c23c43964949031935029a"
      }
    }
  },
  "nbformat": 4,
  "nbformat_minor": 0
}
